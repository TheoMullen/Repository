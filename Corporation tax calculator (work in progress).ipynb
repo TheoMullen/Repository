{
 "cells": [
  {
   "cell_type": "code",
   "execution_count": null,
   "id": "44a6fc4e",
   "metadata": {},
   "outputs": [],
   "source": [
    "#This is a basic calculator for corporation tax, which ignores a lot of allowances and analyses one year in isolation"
   ]
  },
  {
   "cell_type": "code",
   "execution_count": null,
   "id": "30e0d0c4",
   "metadata": {},
   "outputs": [],
   "source": []
  },
  {
   "cell_type": "code",
   "execution_count": 31,
   "id": "62e4e41c",
   "metadata": {},
   "outputs": [
    {
     "name": "stdout",
     "output_type": "stream",
     "text": [
      "Enter interest paid in the year \n",
      "£10\n",
      "Trading-related interest expenses may relate to a write-off of trade receivables, loans to fund operations or buy machinery or other trading-related transactions.\n",
      "\n",
      "Enter trading-related interest expenses: \n",
      "£8\n",
      "\n",
      "Interest expense related to trading activities: £8 \n",
      "Interest expense related to non-trading activities: £2\n"
     ]
    }
   ],
   "source": [
    "#Interest paid\n",
    "\n",
    "int_paid=int(input('Enter interest paid in the year \\n£'))\n",
    "\n",
    "if int_paid!=0:\n",
    "    trading_int_paid=int(input('Trading-related interest expenses may relate to a write-off of trade receivables, loans to fund operations or buy machinery or other trading-related transactions.\\n\\nEnter trading-related interest expenses: \\n£'))\n",
    "    non_trading_int_paid=int_paid-trading_int_paid\n",
    "    print(f'\\nInterest expense related to trading activities: £{trading_int_paid} \\nInterest expense related to non-trading activities: £{non_trading_int_paid}')\n",
    "    \n",
    "else:\n",
    "    trading_int_paid=0\n",
    "    non_trading_int_paid=0"
   ]
  },
  {
   "cell_type": "code",
   "execution_count": 33,
   "id": "5383dbc1",
   "metadata": {},
   "outputs": [
    {
     "name": "stdout",
     "output_type": "stream",
     "text": [
      "Enter interest received in the year \n",
      "£5\n",
      "If lending money is your trade, enter the portion of interest received from lending (enter \"0\" if not): \n",
      "£0\n",
      "\n",
      "Interest received related to trading activities: £0\n",
      "Interest received related to non-trading activities: £5\n"
     ]
    }
   ],
   "source": [
    "#Interest received\n",
    "\n",
    "int_recd=int(input('Enter interest received in the year \\n£'))\n",
    "\n",
    "if int_recd!=0:\n",
    "    trading_int_recd=int(input('If lending money is your trade, enter the portion of interest received from lending (enter \"0\" if not): \\n£'))\n",
    "    non_trading_int_recd=int_recd-trading_int_recd\n",
    "    print(f'\\nInterest received related to trading activities: £{trading_int_recd}\\nInterest received related to non-trading activities: £{non_trading_int_recd}')\n",
    "    \n",
    "else:\n",
    "    trading_int_recd=0\n",
    "    non_trading_int_recd=0"
   ]
  },
  {
   "cell_type": "code",
   "execution_count": 36,
   "id": "cff47b26",
   "metadata": {},
   "outputs": [
    {
     "name": "stdout",
     "output_type": "stream",
     "text": [
      "Enter any rental income received: \n",
      "£50\n",
      "Enter total property expenses: \n",
      "£35\n",
      "Expenses are allowable if they are wholly and exclusively for the property business. Enter allowable property expenses: \n",
      "£30\n",
      "If you let a property on a short lease (<50 years) in the past year, enter the lease premium (enter \"0\" if not): \n",
      "£2\n",
      "Enter the length of the lease in years: \n",
      "10\n",
      "Taxable property income: £21.64\n"
     ]
    }
   ],
   "source": [
    "#Property income\n",
    "\n",
    "rent=int(input('Enter any rental income received: \\n£'))\n",
    "\n",
    "property_expenses=int(input('Enter total property expenses: \\n£'))\n",
    "allowable_property_expenses=int(input('Expenses are allowable if they are wholly and exclusively for the property business. Enter allowable property expenses: \\n£'))\n",
    "disallowable_property_expenses=property_expenses-allowable_property_expenses\n",
    "\n",
    "lease_premium=int(input('If you let a property on a short lease (<50 years) in the past year, enter the lease premium (enter \"0\" if not): \\n£'))\n",
    "if lease_premium==0:\n",
    "    assessable_lease_premium=0\n",
    "else:\n",
    "    assessable_lease_premium=lease_premium*(51-int(input('Enter the length of the lease in years: \\n')))/50\n",
    "\n",
    "    \n",
    "property_income=rent-allowable_property_expenses+assessable_lease_premium\n",
    "\n",
    "print(f'Taxable property income: £{property_income}')"
   ]
  },
  {
   "cell_type": "code",
   "execution_count": 17,
   "id": "6efe83d4",
   "metadata": {},
   "outputs": [
    {
     "name": "stdout",
     "output_type": "stream",
     "text": [
      "Enter the proceeds received from an asset disposal in the year (enter \"0\" if none): \n",
      "5\n",
      "Enter the incidental costs related to the disposal: \n",
      "5\n",
      "Allowable expenses: \n",
      "5\n",
      "Enter cost and incidental costs of asset acquisition: \n",
      "5\n",
      "Enter enhancement expenditure: \n",
      "5\n",
      "Enter RPI in month of expenses: \n",
      "5\n",
      "Enter RPI in month of disposal: \n",
      "5\n",
      "Chargeable gain: £-15.0\n"
     ]
    }
   ],
   "source": [
    "#Chargeable gains\n",
    "\n",
    "disposal_proceeds=int(input('Enter the proceeds received from an asset disposal in the year (enter \"0\" if none): \\n'))\n",
    "if disposal_proceeds==0:\n",
    "    chargeable_gain=0\n",
    "else:\n",
    "    disposal_costs=int(input('Enter the incidental costs related to the disposal: \\n'))\n",
    "    allowable_expenditure=int(input('Allowable expenses: \\n'))\n",
    "    acquisition_costs=int(input('Enter cost and incidental costs of asset acquisition: \\n'))\n",
    "    enhancement_expenditure=int(input('Enter enhancement expenditure: \\n'))\n",
    "\n",
    "    rpi1=float(input('Enter RPI in month of expenses: \\n'))\n",
    "    rpi2=float(input('Enter RPI in month of disposal: \\n'))\n",
    "    #Calculating for 'allowable expenditure' only\n",
    "    indexation_allowance=allowable_expenditure*(rpi2-rpi1)/rpi1\n",
    "\n",
    "    chargeable_gain=disposal_proceeds-disposal_costs-allowable_expenditure-acquisition_costs-enhancement_expenditure-indexation_allowance\n",
    "print(f'Chargeable gain: £{chargeable_gain}')"
   ]
  },
  {
   "cell_type": "code",
   "execution_count": 18,
   "id": "f5f2c3b8",
   "metadata": {},
   "outputs": [
    {
     "name": "stdout",
     "output_type": "stream",
     "text": [
      "Enter dividends received in the year (enter \"0\" if none): \n",
      "£5\n",
      "Dividend income= £5\n"
     ]
    }
   ],
   "source": [
    "#Dividend income\n",
    "\n",
    "dividend_income=int(input('Enter dividends received in the year (enter \"0\" if none): \\n£'))\n",
    "print(f'Dividend income= £{dividend_income}')"
   ]
  },
  {
   "cell_type": "code",
   "execution_count": 38,
   "id": "50752fe7",
   "metadata": {},
   "outputs": [
    {
     "name": "stdout",
     "output_type": "stream",
     "text": [
      "Enter any qualifying charitable donations made in the year (enter \"0\" if none): \n",
      "£4\n",
      "Qualifying charitable donations= £4\n"
     ]
    }
   ],
   "source": [
    "#QCDs\n",
    "\n",
    "qcds=int(input('Enter any qualifying charitable donations made in the year (enter \"0\" if none): \\n£'))\n",
    "print(f'Qualifying charitable donations= £{qcds}')"
   ]
  },
  {
   "cell_type": "code",
   "execution_count": 37,
   "id": "13e4759a",
   "metadata": {},
   "outputs": [
    {
     "name": "stdout",
     "output_type": "stream",
     "text": [
      "Enter any other disallowable expenses (enter \"0\" if none): \n",
      "£5\n",
      "Disallowable expenses: \n",
      "\tNon-trading interest expenses: £2 \n",
      "\tDisallowable property expenses: £5 \n",
      "\tOther disallowable expenses: £5\n",
      "\n",
      "\tTotal disallowable expenses: £12\n"
     ]
    }
   ],
   "source": [
    "#Disallowable expenses\n",
    "\n",
    "other_disallowable_expenses=int(input('Enter any other disallowable expenses (enter \"0\" if none): \\n£'))\n",
    "disallowable_expenses=non_trading_int_paid+disallowable_property_expenses+other_disallowable_expenses\n",
    "\n",
    "print(f'Disallowable expenses: \\n\\tNon-trading interest expenses: £{non_trading_int_paid} \\n\\tDisallowable property expenses: £{disallowable_property_expenses} \\n\\tOther disallowable expenses: £{other_disallowable_expenses}')\n",
    "print(f'\\n\\tTotal disallowable expenses: £{disallowable_expenses}')"
   ]
  },
  {
   "cell_type": "code",
   "execution_count": 50,
   "id": "f5c562b9",
   "metadata": {},
   "outputs": [
    {
     "name": "stdout",
     "output_type": "stream",
     "text": [
      "Enter net profit for the year: \n",
      "£1000\n"
     ]
    }
   ],
   "source": [
    "#Net profit\n",
    "net_profit=int(input('Enter net profit for the year: \\n£'))"
   ]
  },
  {
   "cell_type": "code",
   "execution_count": 47,
   "id": "656a6074",
   "metadata": {},
   "outputs": [
    {
     "name": "stdout",
     "output_type": "stream",
     "text": [
      "Enter the value of capital allowances for the year: \n",
      "£5\n"
     ]
    }
   ],
   "source": [
    "#Capital allowances\n",
    "cap_allowances=int(input('Enter the value of capital allowances for the year: \\n£'))"
   ]
  },
  {
   "cell_type": "code",
   "execution_count": 42,
   "id": "41c505ce",
   "metadata": {},
   "outputs": [],
   "source": [
    "#Non-trading income taxed elsewhere\n"
   ]
  },
  {
   "cell_type": "code",
   "execution_count": 51,
   "id": "ecdfc84f",
   "metadata": {},
   "outputs": [
    {
     "name": "stdout",
     "output_type": "stream",
     "text": [
      "Trading income (adjusted for tax): £983.36\n"
     ]
    }
   ],
   "source": [
    "#Trading income\n",
    "trading_income=net_profit-cap_allowances-non_trading_int_recd-property_income-chargeable_gain\n",
    "print(f'Trading income (adjusted for tax): £{trading_income}')"
   ]
  },
  {
   "cell_type": "code",
   "execution_count": 60,
   "id": "536b6411",
   "metadata": {},
   "outputs": [
    {
     "name": "stdout",
     "output_type": "stream",
     "text": [
      "Trading income:\t\t\t\t983.36\n",
      "Interest income:\t\t\t5\n",
      "Property income:\t\t\t21.64\n",
      "Chargeable gains:\t\t\t-15.0\n",
      "\n",
      "Total profit:\t\t\t\t995.0\n",
      "Qualifying charitable donations:\t(4)\n",
      "\n",
      "Taxable total profit:\t\t\t991.0\n",
      "\n",
      "Corporation tax payable (2022 rate):\t£188.29\n"
     ]
    }
   ],
   "source": [
    "#TTP\n",
    "total_profit=trading_income+non_trading_int_recd+property_income+chargeable_gain\n",
    "ttp=total_profit-qcds\n",
    "ct=ttp*0.19\n",
    "\n",
    "print(f'Trading income:\\t\\t\\t\\t{trading_income}')\n",
    "print(f'Interest income:\\t\\t\\t{non_trading_int_recd}')\n",
    "print(f'Property income:\\t\\t\\t{property_income}')\n",
    "print(f'Chargeable gains:\\t\\t\\t{chargeable_gain}')\n",
    "\n",
    "print(f'\\nTotal profit:\\t\\t\\t\\t{total_profit}')\n",
    "print(f'Qualifying charitable donations:\\t({qcds})')\n",
    "\n",
    "print(f'\\nTaxable total profit:\\t\\t\\t{ttp}')\n",
    "print(f'\\nCorporation tax payable (2022 rate):\\t£{ct}')"
   ]
  }
 ],
 "metadata": {
  "kernelspec": {
   "display_name": "Python 3",
   "language": "python",
   "name": "python3"
  },
  "language_info": {
   "codemirror_mode": {
    "name": "ipython",
    "version": 3
   },
   "file_extension": ".py",
   "mimetype": "text/x-python",
   "name": "python",
   "nbconvert_exporter": "python",
   "pygments_lexer": "ipython3",
   "version": "3.8.8"
  }
 },
 "nbformat": 4,
 "nbformat_minor": 5
}
