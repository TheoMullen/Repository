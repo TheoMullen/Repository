{
 "cells": [
  {
   "cell_type": "code",
   "execution_count": null,
   "id": "44a6fc4e",
   "metadata": {},
   "outputs": [],
   "source": [
    "#This is a basic calculator for corporation tax, which ignores a lot of allowances and analyses one year in isolation."
   ]
  },
  {
   "cell_type": "code",
   "execution_count": 142,
   "id": "62e4e41c",
   "metadata": {},
   "outputs": [],
   "source": [
    "#Interest paid\n",
    "class Interest_Paid():\n",
    "\n",
    "    def __init__(self):\n",
    "        self.t=0\n",
    "        self.nt=0\n",
    "        \n",
    "    def ask(self):\n",
    "        \n",
    "        interest=int(input('Enter interest paid in the year \\n£'))\n",
    "        if interest!=0:\n",
    "            self.t=int(input('Trading-related interest expenses may relate to a write-off of trade receivables, loans to fund operations or buy machinery or other trading-related transactions.\\n\\nEnter trading-related interest expenses: \\n£'))\n",
    "            self.nt=interest-self.t\n",
    "            print(f'\\nInterest expense related to trading activities: £{self.t} \\nInterest expense related to non-trading activities: £{self.nt}')\n",
    "        else:\n",
    "            self.t=0\n",
    "            self.nt=0\n",
    "            "
   ]
  },
  {
   "cell_type": "code",
   "execution_count": 146,
   "id": "72b36d2e",
   "metadata": {},
   "outputs": [],
   "source": [
    "IP=Interest_Paid()"
   ]
  },
  {
   "cell_type": "code",
   "execution_count": 144,
   "id": "ef55e944",
   "metadata": {},
   "outputs": [
    {
     "name": "stdout",
     "output_type": "stream",
     "text": [
      "Enter interest paid in the year \n",
      "£1000\n",
      "Trading-related interest expenses may relate to a write-off of trade receivables, loans to fund operations or buy machinery or other trading-related transactions.\n",
      "\n",
      "Enter trading-related interest expenses: \n",
      "£800\n",
      "\n",
      "Interest expense related to trading activities: £800 \n",
      "Interest expense related to non-trading activities: £200\n"
     ]
    }
   ],
   "source": [
    "IP.ask()"
   ]
  },
  {
   "cell_type": "code",
   "execution_count": 145,
   "id": "ac72b973",
   "metadata": {},
   "outputs": [],
   "source": [
    "#Interest received\n",
    "\n",
    "class Interest_Received():\n",
    "\n",
    "    def __init__(self):\n",
    "        self.t=0\n",
    "        self.nt=0\n",
    "        \n",
    "    def ask(self):\n",
    "        \n",
    "        interest=int(input('Enter interest received in the year \\n£'))\n",
    "        if interest!=0:\n",
    "            self.t=int(input('If lending money is your trade, enter the portion of interest received from lending (enter \"0\" if not): \\n£'))\n",
    "            self.nt=interest-self.t\n",
    "            print(f'\\nInterest received related to trading activities: £{self.t}\\nInterest received related to non-trading activities: £{self.nt}')\n",
    "        else:\n",
    "            self.t=0\n",
    "            self.nt=0"
   ]
  },
  {
   "cell_type": "code",
   "execution_count": 152,
   "id": "aca56dba",
   "metadata": {},
   "outputs": [],
   "source": [
    "IR=Interest_Received()"
   ]
  },
  {
   "cell_type": "code",
   "execution_count": 148,
   "id": "e89835e2",
   "metadata": {},
   "outputs": [
    {
     "name": "stdout",
     "output_type": "stream",
     "text": [
      "Enter interest received in the year \n",
      "£400\n",
      "If lending money is your trade, enter the portion of interest received from lending (enter \"0\" if not): \n",
      "£0\n",
      "\n",
      "Interest received related to trading activities: £0\n",
      "Interest received related to non-trading activities: £400\n"
     ]
    }
   ],
   "source": [
    "IR.ask()"
   ]
  },
  {
   "cell_type": "code",
   "execution_count": 149,
   "id": "fe364930",
   "metadata": {},
   "outputs": [],
   "source": [
    "#Property income\n",
    "\n",
    "class Property_Income():\n",
    "    \n",
    "    def __init__(self):\n",
    "        self.r=int(input('Enter any rental income received: \\n£'))\n",
    "        self.e=int(input('Enter total property expenses: \\n£'))\n",
    "        self.ae=int(input('Property expenses are allowable if they are wholly and exclusively for the property business. Enter allowable expenses: \\n£'))\n",
    "        self.de=self.e-self.ae\n",
    "        self.p=int(input('If you let a property on a short lease (<50 years) in the past year, enter the lease premium (enter \"0\" if not): \\n£'))\n",
    "\n",
    "        if self.p==0:\n",
    "            self.ap=0\n",
    "        else:\n",
    "            self.ap=self.p*(51-int(input('Enter the length of the lease in years: \\n')))/50\n",
    "\n",
    "        self.pi=self.r-self.e+self.ap\n",
    "\n",
    "        print(f'Taxable property income: £{self.pi}')"
   ]
  },
  {
   "cell_type": "code",
   "execution_count": 150,
   "id": "eeb5831d",
   "metadata": {},
   "outputs": [
    {
     "name": "stdout",
     "output_type": "stream",
     "text": [
      "Enter any rental income received: \n",
      "£6000\n",
      "Enter total property expenses: \n",
      "£2000\n",
      "Property expenses are allowable if they are wholly and exclusively for the property business. Enter allowable expenses: \n",
      "£1500\n",
      "If you let a property on a short lease (<50 years) in the past year, enter the lease premium (enter \"0\" if not): \n",
      "£200\n",
      "Enter the length of the lease in years: \n",
      "5\n",
      "Taxable property income: £4184.0\n"
     ]
    }
   ],
   "source": [
    "PI=Property_Income()"
   ]
  },
  {
   "cell_type": "code",
   "execution_count": 153,
   "id": "6efe83d4",
   "metadata": {},
   "outputs": [],
   "source": [
    "#Chargeable gain (assuming no more than one disposal)\n",
    "\n",
    "class Chargeable_Gain:\n",
    "    \n",
    "    def __init__(self):\n",
    "        self.cg=0\n",
    "        self.p=int(input('Enter the proceeds received from an asset disposal in the year (enter \"0\" if none): \\n'))\n",
    "        if self.p==0:\n",
    "            self.cg=0\n",
    "        else:\n",
    "            self.dc=int(input('Enter the incidental disposal costs: \\n'))\n",
    "            self.ae=int(input('Allowable expenses: \\n'))\n",
    "            self.ac=int(input('Enter cost and incidental costs of asset acquisition: \\n'))\n",
    "            self.ee=int(input('Enter enhancement expenditure: \\n'))\n",
    "\n",
    "            rpi1=float(input('Enter RPI in month of expenses: \\n'))\n",
    "            rpi2=float(input('Enter RPI in month of disposal: \\n'))\n",
    "            #Calculating for 'allowable expenditure' only\n",
    "            self.ia=self.ae*(rpi2-rpi1)/rpi1\n",
    "\n",
    "            self.cg=self.p-self.dc-self.ae-self.ac-self.ee-self.ia\n",
    "        print(f'Chargeable gain: £{self.cg}')"
   ]
  },
  {
   "cell_type": "code",
   "execution_count": 154,
   "id": "79813b88",
   "metadata": {},
   "outputs": [
    {
     "name": "stdout",
     "output_type": "stream",
     "text": [
      "Enter the proceeds received from an asset disposal in the year (enter \"0\" if none): \n",
      "500\n",
      "Enter the incidental disposal costs: \n",
      "30\n",
      "Allowable expenses: \n",
      "80\n",
      "Enter cost and incidental costs of asset acquisition: \n",
      "300\n",
      "Enter enhancement expenditure: \n",
      "40\n",
      "Enter RPI in month of expenses: \n",
      "1.2\n",
      "Enter RPI in month of disposal: \n",
      "1.4\n",
      "Chargeable gain: £36.66666666666667\n"
     ]
    }
   ],
   "source": [
    "CG=Chargeable_Gain()"
   ]
  },
  {
   "cell_type": "code",
   "execution_count": 155,
   "id": "f5f2c3b8",
   "metadata": {},
   "outputs": [
    {
     "name": "stdout",
     "output_type": "stream",
     "text": [
      "Enter dividends received in the year (enter \"0\" if none): \n",
      "£40\n",
      "Dividend income= £40\n"
     ]
    }
   ],
   "source": [
    "#Dividend income\n",
    "\n",
    "dividend_income=int(input('Enter dividends received in the year (enter \"0\" if none): \\n£'))\n",
    "print(f'Dividend income= £{dividend_income}')"
   ]
  },
  {
   "cell_type": "code",
   "execution_count": 156,
   "id": "aade5f3e",
   "metadata": {},
   "outputs": [
    {
     "name": "stdout",
     "output_type": "stream",
     "text": [
      "Enter any qualifying charitable donations made in the year (enter \"0\" if none): \n",
      "£50\n",
      "Qualifying charitable donations= £50\n"
     ]
    }
   ],
   "source": [
    "#QCDs\n",
    "\n",
    "qcds=int(input('Enter any qualifying charitable donations made in the year (enter \"0\" if none): \\n£'))\n",
    "print(f'Qualifying charitable donations= £{qcds}')"
   ]
  },
  {
   "cell_type": "code",
   "execution_count": 157,
   "id": "113c7cb7",
   "metadata": {},
   "outputs": [
    {
     "name": "stdout",
     "output_type": "stream",
     "text": [
      "Enter net profit for the year: \n",
      "£10000\n"
     ]
    }
   ],
   "source": [
    "#Net profit\n",
    "net_profit=int(input('Enter net profit for the year: \\n£'))"
   ]
  },
  {
   "cell_type": "code",
   "execution_count": 141,
   "id": "0bd34c61",
   "metadata": {},
   "outputs": [
    {
     "name": "stdout",
     "output_type": "stream",
     "text": [
      "Enter the value of capital allowances for the year: \n",
      "£50\n"
     ]
    }
   ],
   "source": [
    "#Capital allowances\n",
    "cap_allowances=int(input('Enter the value of capital allowances for the year: \\n£'))"
   ]
  },
  {
   "cell_type": "code",
   "execution_count": 159,
   "id": "b0d17d7b",
   "metadata": {},
   "outputs": [],
   "source": [
    "#Disallowable expenses\n",
    "\n",
    "class Disallowable_Expenses:\n",
    "    \n",
    "    def __init__(self):\n",
    "        self.ode=int(input('Enter any other disallowable expenses (enter \"0\" if none): \\n£'))\n",
    "        self.de=IP.nt+PI.de+self.ode\n",
    "        print(f'Disallowable expenses: \\n\\tNon-trading interest expenses: £{IP.nt} \\n\\tDisallowable property expenses: £{PI.de} \\n\\tOther disallowable expenses: £{self.ode}')\n",
    "        print(f'\\n\\tTotal disallowable expenses: £{self.de}')"
   ]
  },
  {
   "cell_type": "code",
   "execution_count": 160,
   "id": "9b47dfdc",
   "metadata": {},
   "outputs": [
    {
     "name": "stdout",
     "output_type": "stream",
     "text": [
      "Enter any other disallowable expenses (enter \"0\" if none): \n",
      "£3000\n",
      "Disallowable expenses: \n",
      "\tNon-trading interest expenses: £200 \n",
      "\tDisallowable property expenses: £500 \n",
      "\tOther disallowable expenses: £3000\n",
      "\n",
      "\tTotal disallowable expenses: £3700\n"
     ]
    }
   ],
   "source": [
    "DE=Disallowable_Expenses()"
   ]
  },
  {
   "cell_type": "code",
   "execution_count": 162,
   "id": "e2ba6300",
   "metadata": {},
   "outputs": [
    {
     "name": "stdout",
     "output_type": "stream",
     "text": [
      "Trading income (adjusted for tax): £9429.333333333334\n"
     ]
    }
   ],
   "source": [
    "#Trading income\n",
    "trading_income=net_profit+DE.de-cap_allowances-IR.nt-PI.pi-CG.cg\n",
    "print(f'Trading income (adjusted for tax): £{trading_income}')"
   ]
  },
  {
   "cell_type": "code",
   "execution_count": 164,
   "id": "1d12e09b",
   "metadata": {},
   "outputs": [
    {
     "name": "stdout",
     "output_type": "stream",
     "text": [
      "Trading income:\t\t\t\t9429.333333333334\n",
      "Interest income:\t\t\t0\n",
      "Property income:\t\t\t4184.0\n",
      "Chargeable gains:\t\t\t36.66666666666667\n",
      "\n",
      "Total profit:\t\t\t\t13650.0\n",
      "Qualifying charitable donations:\t(50)\n",
      "\n",
      "Taxable total profit:\t\t\t13600.0\n",
      "\n",
      "Corporation tax payable (2022 rate):\t£2584.0\n"
     ]
    }
   ],
   "source": [
    "#TTP\n",
    "total_profit=trading_income+IR.nt+PI.pi+CG.cg\n",
    "ttp=total_profit-qcds\n",
    "ct=ttp*0.19\n",
    "\n",
    "print(f'Trading income:\\t\\t\\t\\t{trading_income}')\n",
    "print(f'Interest income:\\t\\t\\t{IR.nt}')\n",
    "print(f'Property income:\\t\\t\\t{PI.pi}')\n",
    "print(f'Chargeable gains:\\t\\t\\t{CG.cg}')\n",
    "\n",
    "print(f'\\nTotal profit:\\t\\t\\t\\t{total_profit}')\n",
    "print(f'Qualifying charitable donations:\\t({qcds})')\n",
    "\n",
    "print(f'\\nTaxable total profit:\\t\\t\\t{ttp}')\n",
    "print(f'\\nCorporation tax payable (2022 rate):\\t£{ct}')"
   ]
  },
  {
   "cell_type": "code",
   "execution_count": null,
   "id": "def35bf7",
   "metadata": {},
   "outputs": [],
   "source": []
  }
 ],
 "metadata": {
  "kernelspec": {
   "display_name": "Python 3",
   "language": "python",
   "name": "python3"
  },
  "language_info": {
   "codemirror_mode": {
    "name": "ipython",
    "version": 3
   },
   "file_extension": ".py",
   "mimetype": "text/x-python",
   "name": "python",
   "nbconvert_exporter": "python",
   "pygments_lexer": "ipython3",
   "version": "3.8.8"
  }
 },
 "nbformat": 4,
 "nbformat_minor": 5
}
