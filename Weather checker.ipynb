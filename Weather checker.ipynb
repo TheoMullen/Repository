{
 "cells": [
  {
   "cell_type": "code",
   "execution_count": 1,
   "id": "79af2e47",
   "metadata": {},
   "outputs": [],
   "source": [
    "import requests\n",
    "import bs4\n",
    "import lxml"
   ]
  },
  {
   "cell_type": "code",
   "execution_count": 2,
   "id": "7ae7e241",
   "metadata": {},
   "outputs": [],
   "source": [
    "page=requests.get('https://www.bbc.co.uk/weather/2643743')\n",
    "soup=bs4.BeautifulSoup(page.text,'lxml')\n",
    "times=soup.select(\".wr-c-text-forecast__summary-title\")\n",
    "forecasts=soup.select(\".wr-c-text-forecast__summary-text\")"
   ]
  },
  {
   "cell_type": "code",
   "execution_count": 3,
   "id": "882024f4",
   "metadata": {},
   "outputs": [],
   "source": [
    "weather={}\n",
    "\n",
    "for num in range(6):\n",
    "    try:\n",
    "        t=times[num].text\n",
    "        f=forecasts[num].text\n",
    "        weather[t]=f\n",
    "    except:\n",
    "        pass\n",
    "    \n",
    "def forecast():\n",
    "    for x,y in weather.items():\n",
    "        print('\\n'+x)\n",
    "        print(y)"
   ]
  },
  {
   "cell_type": "code",
   "execution_count": 4,
   "id": "325189d0",
   "metadata": {},
   "outputs": [
    {
     "name": "stdout",
     "output_type": "stream",
     "text": [
      "\n",
      "Today\n",
      "This afternoon will see plenty of sunshine, and just the odd light patch of cloud drifting in at times. It will be a dry day of fine weather. Light or gentle winds.\n",
      "\n",
      "Tonight\n",
      "Tonight will see clear skies throughout, and it will remain dry. Staying calm, with light or gentle winds.\n",
      "\n",
      "Saturday\n",
      "Tomorrow will be another day of dry and sunny weather. Winds will pick up throughout the day with a south-westerly breeze until evening.\n",
      "\n",
      "Outlook for Sunday to Tuesday\n",
      "Sunday will be a largely dry and bright day. Steady breezes are likely, introducing some cloud, and the odd shower cannot be totally ruled out. Monday will turn quite windy and through the day, a band of rain will spread in from the west, lasting into the night. Tuesday is uncertain. High pressure will build in the north, but an area of wind and rain may push in from the south.\n"
     ]
    }
   ],
   "source": [
    "forecast()"
   ]
  },
  {
   "cell_type": "code",
   "execution_count": null,
   "id": "d0e7a2c7",
   "metadata": {},
   "outputs": [],
   "source": []
  }
 ],
 "metadata": {
  "kernelspec": {
   "display_name": "Python 3",
   "language": "python",
   "name": "python3"
  },
  "language_info": {
   "codemirror_mode": {
    "name": "ipython",
    "version": 3
   },
   "file_extension": ".py",
   "mimetype": "text/x-python",
   "name": "python",
   "nbconvert_exporter": "python",
   "pygments_lexer": "ipython3",
   "version": "3.8.8"
  }
 },
 "nbformat": 4,
 "nbformat_minor": 5
}
