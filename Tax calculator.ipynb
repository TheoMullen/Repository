{
 "cells": [
  {
   "cell_type": "code",
   "execution_count": null,
   "id": "44a6fc4e",
   "metadata": {},
   "outputs": [],
   "source": [
    "#Start with company corporation tax\n",
    "\n",
    "#For corporation tax, ask questions to get an answer for each of the questions below (eg. ask if they have lent money and how much and whether it is officially their trade or not, to determine if they have any interest income (rather than just asking directly))"
   ]
  },
  {
   "cell_type": "code",
   "execution_count": null,
   "id": "e0104c77",
   "metadata": {},
   "outputs": [],
   "source": []
  },
  {
   "cell_type": "code",
   "execution_count": null,
   "id": "a5aacb18",
   "metadata": {},
   "outputs": [],
   "source": [
    "class expenditure():\n",
    "    def_init_(self,allow,disallow)\n",
    "    self.allowable=attr1\n",
    "    \n",
    "    \n",
    "def ask_allowable:\n",
    "    allowable=int(intput('Enter total expenditure on x,y,z: '))\n",
    "    \n",
    "    \n",
    "    #ask questions about expenditure to categorise it into allowable and disallowable (which can be attributes of the expenditure class)\n",
    "    #follow this process (ask questions to calculate values for attributes and use that to find values for totals) for each component of trading income and then for each component of TTP"
   ]
  },
  {
   "cell_type": "code",
   "execution_count": null,
   "id": "ce4b13e8",
   "metadata": {},
   "outputs": [],
   "source": []
  },
  {
   "cell_type": "code",
   "execution_count": null,
   "id": "345a1ad8",
   "metadata": {},
   "outputs": [],
   "source": []
  },
  {
   "cell_type": "code",
   "execution_count": null,
   "id": "f996f36f",
   "metadata": {},
   "outputs": [],
   "source": []
  },
  {
   "cell_type": "code",
   "execution_count": null,
   "id": "118311a3",
   "metadata": {},
   "outputs": [],
   "source": []
  },
  {
   "cell_type": "code",
   "execution_count": null,
   "id": "22a0b551",
   "metadata": {},
   "outputs": [],
   "source": []
  },
  {
   "cell_type": "code",
   "execution_count": null,
   "id": "b973fb2d",
   "metadata": {},
   "outputs": [],
   "source": [
    "net_profit=int(input('Enter net profit: £'))\n",
    "disallowable_expenditure=int(input('Enter disallowable expenditure: £'))\n",
    "capital_allowances=int(input('Enter any capital allowances: £'))\n",
    "non_trading_income=int(input('Enter any income from non-trading activities: £'))\n",
    "trading_income=net_profit+disallowable_expenditure-capital_allowances-non_trading_income\n",
    "print(f'\\n Trading income= £{trading_income}')"
   ]
  },
  {
   "cell_type": "code",
   "execution_count": null,
   "id": "16acabc2",
   "metadata": {},
   "outputs": [],
   "source": [
    "interest_income=int(input('Enter any interest income (enter \"0\" if none): £'))\n",
    "property_income=int(input('Enter any property income: £'))\n",
    "chargeable_gains=int(input('Enter any chargeable gains: £'))\n",
    "qcds=int(input('Enter any qualifying charitable donations: £'))\n",
    "\n",
    "ttp=trading_income+interest_income+property_income+chargeable_gains-qcds\n",
    "print(f'\\nTaxable total profits= £{ttp}')"
   ]
  },
  {
   "cell_type": "code",
   "execution_count": null,
   "id": "9a5041dc",
   "metadata": {},
   "outputs": [],
   "source": [
    "rate=0.4\n",
    "tax_payable=ttp*rate\n",
    "print(f'Tax payable= £{tax_payable}')"
   ]
  },
  {
   "cell_type": "code",
   "execution_count": null,
   "id": "c4d649e1",
   "metadata": {},
   "outputs": [],
   "source": []
  },
  {
   "cell_type": "code",
   "execution_count": null,
   "id": "cf43698a",
   "metadata": {},
   "outputs": [],
   "source": []
  },
  {
   "cell_type": "code",
   "execution_count": null,
   "id": "bf883e0d",
   "metadata": {},
   "outputs": [],
   "source": []
  },
  {
   "cell_type": "code",
   "execution_count": null,
   "id": "033248b0",
   "metadata": {},
   "outputs": [],
   "source": []
  },
  {
   "cell_type": "code",
   "execution_count": null,
   "id": "6f17ccf2",
   "metadata": {},
   "outputs": [],
   "source": [
    "int_paid=int(input('Enter interest paid in the year \\n£'))\n",
    "\n",
    "if int_paid!=0:\n",
    "    trading_int_paid=int(input('Trading-related interest expenses may relate to a write-off of trade receivables, loans to fund operations or buy machinery or other trading-related transactions.\\n\\nEnter trading-related interest expenses: \\n£'))\n",
    "    non_trading_int_paid=int_paid-trading_int_paid\n",
    "    print(f'\\nInterest expense related to trading activities: £{trading_int_paid} \\nInterest expense related to non-trading activities: £{non_trading_int_paid}')\n",
    "    \n",
    "else:\n",
    "    trading_int_paid=0\n",
    "    non_trading_int_paid=0"
   ]
  },
  {
   "cell_type": "code",
   "execution_count": null,
   "id": "da3f7500",
   "metadata": {},
   "outputs": [],
   "source": [
    "int_recd=int(input('Enter interest received in the year \\n£'))\n",
    "\n",
    "if int_recd!=0:\n",
    "    trading_int_recd=int(input('If lending money is your trade, enter the proportion of interest received from lending (enter \"0\" if not): \\n£'))\n",
    "    non_trading_int_recd=int_recd-trading_int_recd\n",
    "    print(f'\\nInterest received related to trading activities: £{trading_int_recd}\\nInterest received related to non-trading activities: £{non_trading_int_recd}')\n",
    "    \n",
    "else:\n",
    "    trading_int_recd=0\n",
    "    non_trading_int_recd=0"
   ]
  },
  {
   "cell_type": "code",
   "execution_count": null,
   "id": "9582aad2",
   "metadata": {},
   "outputs": [],
   "source": []
  }
 ],
 "metadata": {
  "kernelspec": {
   "display_name": "Python 3",
   "language": "python",
   "name": "python3"
  },
  "language_info": {
   "codemirror_mode": {
    "name": "ipython",
    "version": 3
   },
   "file_extension": ".py",
   "mimetype": "text/x-python",
   "name": "python",
   "nbconvert_exporter": "python",
   "pygments_lexer": "ipython3",
   "version": "3.8.8"
  }
 },
 "nbformat": 4,
 "nbformat_minor": 5
}
